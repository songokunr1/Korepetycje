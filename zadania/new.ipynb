{
 "cells": [
  {
   "cell_type": "markdown",
   "metadata": {},
   "source": [
    "Funkcja pascal(n=1, trojkat=True)"
   ]
  },
  {
   "cell_type": "code",
   "execution_count": 3,
   "metadata": {},
   "outputs": [
    {
     "data": {
      "text/plain": [
       "[[1], [1, 1], [1, 2, 1], [1, 3, 3, 1], [1, 4, 6, 4, 1]]"
      ]
     },
     "execution_count": 3,
     "metadata": {},
     "output_type": "execute_result"
    }
   ],
   "source": [
    "def pascal(n=1, trojkat=True):\n",
    "    #[[],[],[]]\n",
    "    #piramida[0], piramida[n]\n",
    "    if n==0:\n",
    "        return [[1]]\n",
    "    if n>=1:\n",
    "        piramida = [[1], [1,1]]\n",
    "        size = 1\n",
    "        \n",
    "        while size < n:\n",
    "            piramida.append(zwroc_nastepny_wiersz(piramida[-1]))\n",
    "            size +=1\n",
    "            \n",
    "        if trojkat == True:\n",
    "            return piramida\n",
    "        elif trojkat == False:\n",
    "            return piramida[n]\n",
    "\n",
    "pascal(4)"
   ]
  },
  {
   "cell_type": "code",
   "execution_count": 4,
   "metadata": {},
   "outputs": [],
   "source": [
    "def zwroc_nastepny_wiersz(poprzedni_wiersz): # [1,2,1] -> [1,3,3,1] -> [1,4,6,4,1]\n",
    "    nowy_wiersz=[]\n",
    "    indeks=0\n",
    "    while True:\n",
    "        if poprzedni_wiersz[indeks]==1:\n",
    "            nowy_wiersz.append(1)\n",
    "        nowy_wiersz.append(poprzedni_wiersz[indeks] + poprzedni_wiersz[indeks+1])\n",
    "        if poprzedni_wiersz[indeks+1]==1:\n",
    "            nowy_wiersz.append(1)\n",
    "            break\n",
    "        indeks +=1\n",
    "    return nowy_wiersz"
   ]
  },
  {
   "cell_type": "markdown",
   "metadata": {},
   "source": [
    "Funkcja pascal napis(n=1, x=’x’, y=’y’)"
   ]
  },
  {
   "cell_type": "code",
   "execution_count": 6,
   "metadata": {},
   "outputs": [
    {
     "name": "stdout",
     "output_type": "stream",
     "text": [
      "n5\n"
     ]
    },
    {
     "data": {
      "text/plain": [
       "'x^5 + 5*x^4*y + 10*x^3*y^2 + 10*x^2*y^3 + 5*x*y^4 + y^5'"
      ]
     },
     "execution_count": 6,
     "metadata": {},
     "output_type": "execute_result"
    }
   ],
   "source": [
    "def pascal_napis(n=1, x=\"x\", y=\"y\"):\n",
    "    if n==0:\n",
    "        return 1\n",
    "      \n",
    "import sympy\n",
    "x, y = sympy.symbols(\"x y\")\n",
    "n=int(input(\"n\"))\n",
    "wzor = (x + y) ** n\n",
    "(x + y)**n\n",
    "wzor.expand()\n",
    "str(wzor.expand()).replace(\"**\", \"^\")\n"
   ]
  },
  {
   "cell_type": "code",
   "execution_count": null,
   "metadata": {},
   "outputs": [],
   "source": [
    "word = 'kawa jest zdrowa'\n",
    "#'x^0',''\n",
    "word.replace('kawa', '')\n",
    "\n",
    "    word += f\"{wiersz[index]}*x^{index-1}*y^{index+1}\"\n",
    "word "
   ]
  },
  {
   "cell_type": "markdown",
   "metadata": {},
   "source": [
    "Funkcja piramida pascal(n=1)"
   ]
  },
  {
   "cell_type": "code",
   "execution_count": null,
   "metadata": {},
   "outputs": [],
   "source": [
    "import numpy as np\n",
    "def piramida_pascal(n=1):\n",
    "    # [[1], [1,1], [1,2,1]] [1,2,1] =>\n",
    "    # wczytac liste list =piramida\n",
    "    # wczytac ostatni elemet listy =warstwa\n",
    "    # zrobic petle ktora:\n",
    "    # mnozy kazdy element w liscie o indeksie X razy wartosc w el index X\n",
    "    piramida = pascal(n)\n",
    "    warstwa = pascal(n, False)\n",
    "    index=0\n",
    "    while index < n:\n",
    "        nowa_warstwa = np.array(piramida[index]) * warstwa[index] # [2, 2]\n",
    "        piramida[index] = nowa_warstwa.tolist()\n",
    "        index +=1\n",
    "    return piramida\n",
    "\n",
    "piramida_pascal(8)"
   ]
  },
  {
   "cell_type": "code",
   "execution_count": null,
   "metadata": {},
   "outputs": [],
   "source": [
    "import numpy as np\n",
    "\n",
    "np.array([1,1]) * 2\n",
    "number=[1,2,310,2]\n",
    "number[1] = 2000\n",
    "number"
   ]
  },
  {
   "cell_type": "markdown",
   "metadata": {},
   "source": [
    "Funkcja piramida pascal napis(n=1, x=’x’, y=’y’, z=’z’)"
   ]
  },
  {
   "cell_type": "code",
   "execution_count": 7,
   "metadata": {},
   "outputs": [
    {
     "name": "stdout",
     "output_type": "stream",
     "text": [
      "Podaj n:4\n"
     ]
    },
    {
     "data": {
      "text/plain": [
       "'x^5 + 5*x^4*y + 5*x^4*z + 10*x^3*y^2 + 20*x^3*y*z + 10*x^3*z^2 + 10*x^2*y^3 + 30*x^2*y^2*z + 30*x^2*y*z^2 + 10*x^2*z^3 + 5*x*y^4 + 20*x*y^3*z + 30*x*y^2*z^2 + 20*x*y*z^3 + 5*x*z^4 + y^5 + 5*y^4*z + 10*y^3*z^2 + 10*y^2*z^3 + 5*y*z^4 + z^5'"
      ]
     },
     "execution_count": 7,
     "metadata": {},
     "output_type": "execute_result"
    }
   ],
   "source": [
    "def piramida_pascal_napis(n=1, x=\"x\", y=\"y\", z=\"z\"):\n",
    "    if n==0:\n",
    "        return 1\n",
    "    \n",
    "import sympy\n",
    "x, y, z = sympy.symbols(\"x y z\")\n",
    "wzor = (x + y + z) ** (n)\n",
    "n=int(input(\"Podaj n:\"))\n",
    "(x + y + z)**(n)\n",
    "wzor.expand()\n",
    "str(wzor.expand()).replace(\"**\", \"^\")"
   ]
  },
  {
   "cell_type": "code",
   "execution_count": null,
   "metadata": {},
   "outputs": [],
   "source": []
  }
 ],
 "metadata": {
  "kernelspec": {
   "display_name": "Python 3",
   "language": "python",
   "name": "python3"
  },
  "language_info": {
   "codemirror_mode": {
    "name": "ipython",
    "version": 3
   },
   "file_extension": ".py",
   "mimetype": "text/x-python",
   "name": "python",
   "nbconvert_exporter": "python",
   "pygments_lexer": "ipython3",
   "version": "3.7.1"
  }
 },
 "nbformat": 4,
 "nbformat_minor": 4
}
