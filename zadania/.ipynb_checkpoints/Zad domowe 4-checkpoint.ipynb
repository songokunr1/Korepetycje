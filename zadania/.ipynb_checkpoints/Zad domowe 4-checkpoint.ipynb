{
 "cells": [
  {
   "cell_type": "markdown",
   "metadata": {},
   "source": [
    "<h4> Funkcja pascal(n=1, trojkat=True) <h4>"
   ]
  },
  {
   "cell_type": "code",
   "execution_count": 3,
   "metadata": {},
   "outputs": [
    {
     "data": {
      "text/plain": [
       "[[1], [1, 1], [1, 2, 1], [1, 3, 3, 1]]"
      ]
     },
     "execution_count": 3,
     "metadata": {},
     "output_type": "execute_result"
    }
   ],
   "source": [
    "def pascal(n=1, trojkat=True):\n",
    "    #[[],[],[]]\n",
    "    #piramida[0], piramida[n]\n",
    "    if n==0:\n",
    "        return [[1]]\n",
    "    if n>=1:\n",
    "        piramida = [[1], [1,1]]\n",
    "        size = 1\n",
    "        \n",
    "        while size < n:\n",
    "            piramida.append(zwroc_nastepny_wiersz(piramida[-1]))\n",
    "            size +=1\n",
    "            \n",
    "        if trojkat == True:\n",
    "            return piramida\n",
    "        elif trojkat == False:\n",
    "            return piramida[n]\n",
    "\n",
    "\n",
    "def zwroc_nastepny_wiersz(poprzedni_wiersz): # [1,2,1] => [1,3,3,1] -> [1,4,6,4,1]\n",
    "    nowy_wiersz=[]\n",
    "    indeks=0\n",
    "    while True:\n",
    "        if poprzedni_wiersz[indeks]==1:\n",
    "            nowy_wiersz.append(1)\n",
    "        nowy_wiersz.append(poprzedni_wiersz[indeks] + poprzedni_wiersz[indeks+1])\n",
    "        if poprzedni_wiersz[indeks+1]==1:\n",
    "            nowy_wiersz.append(1)\n",
    "            break\n",
    "        indeks +=1\n",
    "    return nowy_wiersz\n",
    "        \n",
    "pascal(3)"
   ]
  },
  {
   "cell_type": "markdown",
   "metadata": {},
   "source": [
    "<h4> Funkcja pascal napis(n=1, x=’x’, y=’y’) <h4>"
   ]
  },
  {
   "cell_type": "code",
   "execution_count": 4,
   "metadata": {},
   "outputs": [],
   "source": [
    "def pascal_napis(n=1, x=\"x\", y=\"y\"):\n",
    "    w = pascal(n)\n",
    "    napis=\"\"\n",
    "    for i in range(n+1):\n",
    "        napis+=str(w[i])*(w[i]!=1)+x*(i!=0)+(f'^{i}' if i>1 else '')+y*(n-i!=0)+(f'{n-i}' if i<n-1 else '')+\"\"\n",
    "    return napis"
   ]
  },
  {
   "cell_type": "code",
   "execution_count": 5,
   "metadata": {},
   "outputs": [
    {
     "data": {
      "text/plain": [
       "'[1]y3[1, 1]xy2[1, 2, 1]x^2y[1, 3, 3, 1]x^3'"
      ]
     },
     "execution_count": 5,
     "metadata": {},
     "output_type": "execute_result"
    }
   ],
   "source": [
    "pascal_napis(3)"
   ]
  },
  {
   "cell_type": "markdown",
   "metadata": {},
   "source": [
    "<h4> Funkcja piramida pascal(n=1) <h4>"
   ]
  },
  {
   "cell_type": "code",
   "execution_count": 5,
   "metadata": {},
   "outputs": [
    {
     "data": {
      "text/plain": [
       "[[1],\n",
       " [8, 8],\n",
       " [28, 56, 28],\n",
       " [56, 168, 168, 56],\n",
       " [70, 280, 420, 280, 70],\n",
       " [56, 280, 560, 560, 280, 56],\n",
       " [28, 168, 420, 560, 420, 168, 28],\n",
       " [8, 56, 168, 280, 280, 168, 56, 8],\n",
       " [1, 8, 28, 56, 70, 56, 28, 8, 1]]"
      ]
     },
     "execution_count": 5,
     "metadata": {},
     "output_type": "execute_result"
    }
   ],
   "source": [
    "import numpy as np\n",
    "def piramida_pascal(n=1):\n",
    "    # [[1], [1,1], [1,2,1]] [1,2,1] =>\n",
    "    # wczytac liste list =piramida\n",
    "    # wczytac ostatni elemet listy =warstwa\n",
    "    # zrobic petle ktora:\n",
    "    # mnozy kazdy element w liscie o indeksie X razy wartosc w el index X\n",
    "    piramida = pascal(n)\n",
    "    warstwa = pascal(n, False)\n",
    "    index=0\n",
    "    while index < n:\n",
    "        nowa_warstwa = np.array(piramida[index]) * warstwa[index] # [2, 2]\n",
    "        piramida[index] = nowa_warstwa.tolist()\n",
    "        index +=1\n",
    "    return piramida\n",
    "\n",
    "piramida_pascal(8)"
   ]
  },
  {
   "cell_type": "markdown",
   "metadata": {},
   "source": [
    "<h4> Funkcja piramida pascal napis(n=1, x=’x’, y=’y’, z=’z’) <h4>"
   ]
  },
  {
   "cell_type": "code",
   "execution_count": null,
   "metadata": {},
   "outputs": [],
   "source": []
  },
  {
   "cell_type": "code",
   "execution_count": 6,
   "metadata": {},
   "outputs": [],
   "source": []
  },
  {
   "cell_type": "code",
   "execution_count": null,
   "metadata": {},
   "outputs": [],
   "source": []
  },
  {
   "cell_type": "code",
   "execution_count": null,
   "metadata": {},
   "outputs": [],
   "source": []
  }
 ],
 "metadata": {
  "kernelspec": {
   "display_name": "Python 3",
   "language": "python",
   "name": "python3"
  },
  "language_info": {
   "codemirror_mode": {
    "name": "ipython",
    "version": 3
   },
   "file_extension": ".py",
   "mimetype": "text/x-python",
   "name": "python",
   "nbconvert_exporter": "python",
   "pygments_lexer": "ipython3",
   "version": "3.7.1"
  }
 },
 "nbformat": 4,
 "nbformat_minor": 4
}
