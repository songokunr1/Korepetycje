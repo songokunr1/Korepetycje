{
 "cells": [
  {
   "cell_type": "markdown",
   "metadata": {},
   "source": [
    "Funkcja pascal(n=1, trojkat=True)"
   ]
  },
  {
   "cell_type": "code",
   "execution_count": 8,
   "metadata": {},
   "outputs": [
    {
     "data": {
      "text/plain": [
       "[[1], [1, 1], [1, 2, 1], [1, 3, 3, 1], [1, 4, 6, 4, 1]]"
      ]
     },
     "execution_count": 8,
     "metadata": {},
     "output_type": "execute_result"
    }
   ],
   "source": [
    "def pascal(n=1, trojkat=True):\n",
    "    #[[],[],[]]\n",
    "    #piramida[0], piramida[n]\n",
    "    if n==0:\n",
    "        return [[1]]\n",
    "    if n>=1:\n",
    "        piramida = [[1], [1,1]]\n",
    "        size = 1\n",
    "        \n",
    "        while size < n:\n",
    "            piramida.append(zwroc_nastepny_wiersz(piramida[-1]))\n",
    "            size +=1\n",
    "            \n",
    "        if trojkat == True:\n",
    "            return piramida\n",
    "        elif trojkat == False:\n",
    "            return piramida[n]\n",
    "\n",
    "pascal(4)"
   ]
  },
  {
   "cell_type": "code",
   "execution_count": 7,
   "metadata": {},
   "outputs": [],
   "source": [
    "def zwroc_nastepny_wiersz(poprzedni_wiersz): # [1,2,1] -> [1,3,3,1] -> [1,4,6,4,1]\n",
    "    nowy_wiersz=[]\n",
    "    indeks=0\n",
    "    while True:\n",
    "        if poprzedni_wiersz[indeks]==1:\n",
    "            nowy_wiersz.append(1)\n",
    "        nowy_wiersz.append(poprzedni_wiersz[indeks] + poprzedni_wiersz[indeks+1])\n",
    "        if poprzedni_wiersz[indeks+1]==1:\n",
    "            nowy_wiersz.append(1)\n",
    "            break\n",
    "        indeks +=1\n",
    "    return nowy_wiersz"
   ]
  },
  {
   "cell_type": "markdown",
   "metadata": {},
   "source": [
    "Funkcja pascal napis(n=1, x=’x’, y=’y’)"
   ]
  },
  {
   "cell_type": "code",
   "execution_count": 89,
   "metadata": {},
   "outputs": [
    {
     "name": "stdin",
     "output_type": "stream",
     "text": [
      "n 4\n"
     ]
    },
    {
     "data": {
      "text/plain": [
       "'x^4 + 4*x^3*y + 6*x^2*y^2 + 4*x*y^3 + y^4'"
      ]
     },
     "execution_count": 89,
     "metadata": {},
     "output_type": "execute_result"
    }
   ],
   "source": [
    "def pascal_napis(n=1, x=\"x\", y=\"y\"):\n",
    "    if n==0:\n",
    "        return 1\n",
    "      \n",
    "import sympy\n",
    "x, y = sympy.symbols(\"x y\")\n",
    "n=int(input(\"n\"))\n",
    "wzor = (x + y) ** n\n",
    "(x + y)**n\n",
    "wzor.expand()\n",
    "str(wzor.expand()).replace(\"**\", \"^\")\n"
   ]
  },
  {
   "cell_type": "code",
   "execution_count": 11,
   "metadata": {},
   "outputs": [
    {
     "ename": "IndentationError",
     "evalue": "unexpected indent (<ipython-input-11-ecfa16ad121c>, line 5)",
     "output_type": "error",
     "traceback": [
      "\u001b[0;36m  File \u001b[0;32m\"<ipython-input-11-ecfa16ad121c>\"\u001b[0;36m, line \u001b[0;32m5\u001b[0m\n\u001b[0;31m    word += f\"{wiersz[index]}*x^{index-1}*y^{index+1}\"\u001b[0m\n\u001b[0m    ^\u001b[0m\n\u001b[0;31mIndentationError\u001b[0m\u001b[0;31m:\u001b[0m unexpected indent\n"
     ]
    }
   ],
   "source": [
    "word = 'kawa jest zdrowa'\n",
    "#'x^0',''\n",
    "word.replace('kawa', '')\n",
    "\n",
    "    word += f\"{wiersz[index]}*x^{index-1}*y^{index+1}\"\n",
    "word\n",
    " '' + \"word\""
   ]
  },
  {
   "cell_type": "markdown",
   "metadata": {},
   "source": [
    "Funkcja piramida pascal(n=1)"
   ]
  },
  {
   "cell_type": "code",
   "execution_count": 9,
   "metadata": {},
   "outputs": [
    {
     "data": {
      "text/plain": [
       "[[1],\n",
       " [8, 8],\n",
       " [28, 56, 28],\n",
       " [56, 168, 168, 56],\n",
       " [70, 280, 420, 280, 70],\n",
       " [56, 280, 560, 560, 280, 56],\n",
       " [28, 168, 420, 560, 420, 168, 28],\n",
       " [8, 56, 168, 280, 280, 168, 56, 8],\n",
       " [1, 8, 28, 56, 70, 56, 28, 8, 1]]"
      ]
     },
     "execution_count": 9,
     "metadata": {},
     "output_type": "execute_result"
    }
   ],
   "source": [
    "import numpy as np\n",
    "def piramida_pascal(n=1):\n",
    "    # [[1], [1,1], [1,2,1]] [1,2,1] =>\n",
    "    # wczytac liste list =piramida\n",
    "    # wczytac ostatni elemet listy =warstwa\n",
    "    # zrobic petle ktora:\n",
    "    # mnozy kazdy element w liscie o indeksie X razy wartosc w el index X\n",
    "    piramida = pascal(n)\n",
    "    warstwa = pascal(n, False)\n",
    "    index=0\n",
    "    while index < n:\n",
    "        nowa_warstwa = np.array(piramida[index]) * warstwa[index] # [2, 2]\n",
    "        piramida[index] = nowa_warstwa.tolist()\n",
    "        index +=1\n",
    "    return piramida\n",
    "\n",
    "piramida_pascal(8)"
   ]
  },
  {
   "cell_type": "code",
   "execution_count": 31,
   "metadata": {},
   "outputs": [
    {
     "data": {
      "text/plain": [
       "[1, 2000, 310, 2]"
      ]
     },
     "execution_count": 31,
     "metadata": {},
     "output_type": "execute_result"
    }
   ],
   "source": [
    "import numpy as np\n",
    "\n",
    "np.array([1,1]) * 2\n",
    "number=[1,2,310,2]\n",
    "number[1] = 2000\n",
    "number"
   ]
  },
  {
   "cell_type": "markdown",
   "metadata": {},
   "source": [
    "Funkcja piramida pascal napis(n=1, x=’x’, y=’y’, z=’z’)"
   ]
  },
  {
   "cell_type": "code",
   "execution_count": 103,
   "metadata": {},
   "outputs": [
    {
     "name": "stdin",
     "output_type": "stream",
     "text": [
      "Podaj n: 3\n"
     ]
    },
    {
     "data": {
      "text/plain": [
       "'x^3 + 3*x^2*y + 3*x^2*z + 3*x*y^2 + 6*x*y*z + 3*x*z^2 + y^3 + 3*y^2*z + 3*y*z^2 + z^3'"
      ]
     },
     "execution_count": 103,
     "metadata": {},
     "output_type": "execute_result"
    }
   ],
   "source": [
    "def piramida_pascal_napis(n=1, x=\"x\", y=\"y\", z=\"z\"):\n",
    "    if n==0:\n",
    "        return 1\n",
    "    \n",
    "import sympy\n",
    "x, y, z = sympy.symbols(\"x y z\")\n",
    "wzor = (x + y + z) ** (n)\n",
    "n=int(input(\"Podaj n:\"))\n",
    "(x + y + z)**(n)\n",
    "wzor.expand()\n",
    "str(wzor.expand()).replace(\"**\", \"^\")"
   ]
  },
  {
   "cell_type": "code",
   "execution_count": null,
   "metadata": {},
   "outputs": [],
   "source": []
  }
 ],
 "metadata": {
  "kernelspec": {
   "display_name": "Python 3",
   "language": "python",
   "name": "python3"
  },
  "language_info": {
   "codemirror_mode": {
    "name": "ipython",
    "version": 3
   },
   "file_extension": ".py",
   "mimetype": "text/x-python",
   "name": "python",
   "nbconvert_exporter": "python",
   "pygments_lexer": "ipython3",
   "version": "3.7.1"
  }
 },
 "nbformat": 4,
 "nbformat_minor": 4
}
