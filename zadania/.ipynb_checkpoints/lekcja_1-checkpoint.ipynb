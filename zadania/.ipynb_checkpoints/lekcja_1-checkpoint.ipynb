{
 "cells": [
  {
   "cell_type": "code",
   "execution_count": 1,
   "metadata": {},
   "outputs": [],
   "source": [
    "liczby = [1,3,5,7]"
   ]
  },
  {
   "cell_type": "code",
   "execution_count": 2,
   "metadata": {},
   "outputs": [
    {
     "data": {
      "text/plain": [
       "1"
      ]
     },
     "execution_count": 2,
     "metadata": {},
     "output_type": "execute_result"
    }
   ],
   "source": [
    "liczby[0]"
   ]
  },
  {
   "cell_type": "code",
   "execution_count": 3,
   "metadata": {},
   "outputs": [
    {
     "data": {
      "text/plain": [
       "3"
      ]
     },
     "execution_count": 3,
     "metadata": {},
     "output_type": "execute_result"
    }
   ],
   "source": [
    "liczby[1]"
   ]
  },
  {
   "cell_type": "code",
   "execution_count": 4,
   "metadata": {},
   "outputs": [
    {
     "name": "stdout",
     "output_type": "stream",
     "text": [
      "1\n",
      "3\n",
      "5\n",
      "7\n"
     ]
    }
   ],
   "source": [
    "for x in liczby:\n",
    "    print(x) "
   ]
  },
  {
   "cell_type": "code",
   "execution_count": null,
   "metadata": {},
   "outputs": [],
   "source": [
    "# utowrzyc liste zakupow [] \n",
    "# lecimy przez liste zakupów:\n",
    "#     sprawdzamy czy w liste zakupow jest dictionary z nazwa co ta krotka co teraz robimy:\n",
    "#      \n",
    "#         to dodajemy liczba +=liczba\n",
    "#     jeżeli nie:\n",
    "#         tworzymy wzór dict:\n",
    "#             {\"name\": przypisujemy wartosc nazwy produktu w krotce\n",
    "#              \"liczba\": przypisujemy wartosc liczba produktu w krotce\n",
    "#              \"cena\": przypisujemy wartosc cena produktu w krotce\n",
    "#              \"podatek\": przypisujemy wartosc podatek produktu w krotce\n",
    "#             }\n",
    "#     lista słowników z pojedynczym produktem i iloscina zakupionych => \n",
    "\n",
    "\n",
    "\n",
    "for element in lista_zakupow:\n",
    "    element[\"name\"] == krotka[0]:\n",
    "        element[\"liczba\"] += krotka[1]\n",
    "-> \n",
    "suma_ceny_brutto = 0\n",
    "for element in lista_zakupow: \n",
    "    element[\"cena_netto\"] = element[\"liczba\"] * element[\"cena\"] * podatek[element[\"podatek\"]] \n",
    "    element[\"cena_brutto\"] = element[\"liczba\"] * element[\"cena\"] * podatek[element[\"podatek\"]] \n",
    " \n",
    "\n",
    "lista_zakupow\n",
    "[{\"name\":233, \"cena_netto\":234}, {}, {}]\n",
    "lista_zakupow[0]\n",
    "{\"name\":233, \"cena_netto\":234}\n",
    "lista_zakupow[0][\"cena_netto\"]\n",
    "\n",
    "    \n",
    "podatek = {\"A\": 0.23,\n",
    "           \"B\": 0.08,\n",
    "           \"C\": 0.05,\n",
    "           \"D\": 0}\n",
    "\n",
    "    \n",
    "slownik= dict()\n",
    "slownik[\"name\"] ='asdf'"
   ]
  }
 ],
 "metadata": {
  "kernelspec": {
   "display_name": "Python 3",
   "language": "python",
   "name": "python3"
  },
  "language_info": {
   "codemirror_mode": {
    "name": "ipython",
    "version": 3
   },
   "file_extension": ".py",
   "mimetype": "text/x-python",
   "name": "python",
   "nbconvert_exporter": "python",
   "pygments_lexer": "ipython3",
   "version": "3.7.1"
  }
 },
 "nbformat": 4,
 "nbformat_minor": 2
}
