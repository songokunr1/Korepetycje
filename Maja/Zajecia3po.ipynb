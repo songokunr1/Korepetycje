{
 "cells": [
  {
   "cell_type": "markdown",
   "metadata": {},
   "source": [
    "<h1> Laboratorium 3 </h1>\n",
    "<h2> Operacje na tekstach i krotkach </h2>"
   ]
  },
  {
   "cell_type": "markdown",
   "metadata": {},
   "source": [
    "<h3 style=\"color: blue;\"> Zadanie domowe na plusy </h3>\n",
    "\n",
    "Ile dni upłynęło od 16.08.1989 do dziś?\n",
    "\n",
    "A ile dni minęło od 14.10.1582 do dziś?\n",
    "\n",
    "A ile od 02.09.31 p.n.e. do dziś?"
   ]
  },
  {
   "cell_type": "code",
   "execution_count": 1,
   "metadata": {},
   "outputs": [
    {
     "name": "stdout",
     "output_type": "stream",
     "text": [
      "159986\n"
     ]
    }
   ],
   "source": [
    "import math\n",
    "dzien,miesiac,rok=14,10,1582\n",
    "dziend,miesiacd,rokd=23,10,2020\n",
    "#Ile dni minęło od 01.01.0 do pierwszej daty\n",
    "czy_przestepny=(rok%4==0 and rok%100!=0)or(rok%400==0)\n",
    "ile_przestepnych=rok//4-rok//100+rok//400-czy_przestepny\n",
    "ile_dni=365*rok+ile_przestepnych+30*miesiac+math.ceil(miesiac/2)-2+czy_przestepny+(miesiac>8)+dzien\n",
    "#Ile dni minęło od 01.01.0 do dzisiejszego dnia\n",
    "czy_przestepnyd=(rokd%4==0 and rokd%100!=0)or(rokd%400==0)\n",
    "ile_przestepnychd=rokd//4-rokd//100+rokd//400-czy_przestepnyd\n",
    "ile_dnid=365*rokd+ile_przestepnychd+30*miesiacd+math.ceil(miesiacd/2)-2+czy_przestepnyd+(miesiacd>8)+dziend\n",
    "wynik=ile_dnid-ile_dni\n",
    "print(wynik)"
   ]
  },
  {
   "cell_type": "markdown",
   "metadata": {},
   "source": [
    "<h3> Wstęp - operacje na tekstach </h3>"
   ]
  },
  {
   "cell_type": "code",
   "execution_count": 1,
   "metadata": {},
   "outputs": [
    {
     "name": "stdout",
     "output_type": "stream",
     "text": [
      "Jakis napis\tDruga linijka\n"
     ]
    }
   ],
   "source": [
    "napis='Jakis napis\\tDruga linijka'\n",
    "type(napis)\n",
    "print(napis)"
   ]
  },
  {
   "cell_type": "code",
   "execution_count": 12,
   "metadata": {},
   "outputs": [
    {
     "data": {
      "text/plain": [
       "True"
      ]
     },
     "execution_count": 12,
     "metadata": {},
     "output_type": "execute_result"
    }
   ],
   "source": [
    "napis2=\"Jakis napis\\tDruga linijka\"\n",
    "napis==napis2"
   ]
  },
  {
   "cell_type": "code",
   "execution_count": 15,
   "metadata": {},
   "outputs": [
    {
     "name": "stdout",
     "output_type": "stream",
     "text": [
      "Pierwsza linia\n",
      "Druga linia\n",
      "Trzecia linia\n"
     ]
    }
   ],
   "source": [
    "wiele_linii='''Pierwsza linia\n",
    "Druga linia\n",
    "Trzecia linia'''\n",
    "print(wiele_linii)"
   ]
  },
  {
   "cell_type": "code",
   "execution_count": 19,
   "metadata": {},
   "outputs": [
    {
     "name": "stdout",
     "output_type": "stream",
     "text": [
      "Jakis napis\tDruga linijka\n",
      "Ala ma kota\n"
     ]
    }
   ],
   "source": [
    "napis+='\\nAla ma kota'\n",
    "print(napis)"
   ]
  },
  {
   "cell_type": "code",
   "execution_count": 20,
   "metadata": {},
   "outputs": [],
   "source": [
    "napis=napis2*3"
   ]
  },
  {
   "cell_type": "code",
   "execution_count": 21,
   "metadata": {},
   "outputs": [
    {
     "name": "stdout",
     "output_type": "stream",
     "text": [
      "Jakis napis\tDruga linijkaJakis napis\tDruga linijkaJakis napis\tDruga linijka\n"
     ]
    }
   ],
   "source": [
    "print(napis)"
   ]
  },
  {
   "cell_type": "markdown",
   "metadata": {},
   "source": [
    "<h3 style=\"color: magenta;\"> Zadanie </h3>\n",
    "Napisz skrypt, który wyświetli szachownicę jak w komórce poniżej o zadanej przez użytkownika liczbie kolumn i wierszy."
   ]
  },
  {
   "cell_type": "raw",
   "metadata": {},
   "source": [
    "################\n",
    "#  #  #  #  #  #\n",
    "################\n",
    "#  #  #  #  #  #\n",
    "################\n",
    "#  #  #  #  #  #\n",
    "################\n",
    "#  #  #  #  #  #\n",
    "################"
   ]
  },
  {
   "cell_type": "code",
   "execution_count": 2,
   "metadata": {},
   "outputs": [
    {
     "name": "stdout",
     "output_type": "stream",
     "text": [
      "#########################\n",
      "#  #  #  #  #  #  #  #  #\n",
      "#########################\n",
      "#  #  #  #  #  #  #  #  #\n",
      "#########################\n",
      "#  #  #  #  #  #  #  #  #\n",
      "#########################\n",
      "#  #  #  #  #  #  #  #  #\n",
      "#########################\n",
      "#  #  #  #  #  #  #  #  #\n",
      "#########################\n",
      "#  #  #  #  #  #  #  #  #\n",
      "#########################\n",
      "#  #  #  #  #  #  #  #  #\n",
      "#########################\n",
      "#  #  #  #  #  #  #  #  #\n",
      "#########################\n",
      "\n"
     ]
    }
   ],
   "source": [
    "liczba_kolumn=8\n",
    "liczba_wierszy=8\n",
    "pierwszy=(liczba_kolumn*3+1)*'#'+'\\n'\n",
    "drugi=liczba_kolumn*'#  '+'#\\n'\n",
    "szachownica=(pierwszy+drugi)*liczba_wierszy+pierwszy\n",
    "print(szachownica)"
   ]
  },
  {
   "cell_type": "markdown",
   "metadata": {},
   "source": [
    "<h3 style=\"color: magenta;\"> Zadanie</h3>\n",
    "Napisz skrypt, który wyświetli piramidę jak w komórce poniżej."
   ]
  },
  {
   "cell_type": "raw",
   "metadata": {},
   "source": [
    "    * \n",
    "   ***   \n",
    "  *****  \n",
    " *******\n",
    "*********"
   ]
  },
  {
   "cell_type": "code",
   "execution_count": 29,
   "metadata": {},
   "outputs": [
    {
     "name": "stdout",
     "output_type": "stream",
     "text": [
      "    *\n",
      "   ***\n",
      "  *****\n",
      " *******\n",
      "*********\n",
      "\n"
     ]
    }
   ],
   "source": [
    "piramida=4*' '+'*'+'\\n'+3*' '+3*'*'+'\\n'+2*' '+5*'*'+'\\n'+' '+7*'*'+'\\n'+9*'*'+'\\n'\n",
    "print(piramida)"
   ]
  },
  {
   "cell_type": "code",
   "execution_count": 3,
   "metadata": {},
   "outputs": [
    {
     "name": "stdout",
     "output_type": "stream",
     "text": [
      "          *\n",
      "         ***\n",
      "        *****\n",
      "       *******\n",
      "      *********\n",
      "     ***********\n",
      "    *************\n",
      "   ***************\n",
      "  *****************\n",
      " *******************\n",
      "*********************\n",
      "\n"
     ]
    }
   ],
   "source": [
    "liczba_pieter=11\n",
    "piramida=[(liczba_pieter-i-1)*' '+(2*i+1)*'*'+'\\n' for i in range(liczba_pieter)]\n",
    "print(''.join(piramida))"
   ]
  },
  {
   "cell_type": "code",
   "execution_count": 80,
   "metadata": {},
   "outputs": [
    {
     "name": "stdout",
     "output_type": "stream",
     "text": [
      "aaaaabbbb\n"
     ]
    }
   ],
   "source": [
    "lista_napisow=['a', 'aaaa','bbbb']\n",
    "print(''.join(lista_napisow))"
   ]
  },
  {
   "cell_type": "markdown",
   "metadata": {},
   "source": [
    "<p style=\"color:red;\"> Zmodyfikuj piramidę tak, by wyglądała jak poniżej </p>\n",
    "(<a href=\"https://en.wikipedia.org/wiki/List_of_Unicode_characters\"> Lista symboli Unicode </a>)"
   ]
  },
  {
   "cell_type": "raw",
   "metadata": {},
   "source": [
    "      ⛰\n",
    "     ▟▎▙\n",
    "    ▟▋▎▋▙\n",
    "   ▟▋▋▎▋▋▙\n",
    "  ▟▋▋▋▎▋▋▋▙\n",
    " ▟▋▋▋▋▎▋▋▋▋▙\n",
    "▟▋▋▋▋▋▎▋▋▋▋▋▙⛱"
   ]
  },
  {
   "cell_type": "code",
   "execution_count": 31,
   "metadata": {},
   "outputs": [
    {
     "name": "stdout",
     "output_type": "stream",
     "text": [
      "Parasol: ⛱\n"
     ]
    }
   ],
   "source": [
    "parasol='Parasol: \\u26f1'\n",
    "print(parasol)"
   ]
  },
  {
   "cell_type": "code",
   "execution_count": 4,
   "metadata": {},
   "outputs": [
    {
     "name": "stdout",
     "output_type": "stream",
     "text": [
      "Podaj dlugosc boku trojkata 10\n"
     ]
    }
   ],
   "source": [
    "bok_trojkata=int(input('Podaj dlugosc boku trojkata '))"
   ]
  },
  {
   "cell_type": "code",
   "execution_count": 5,
   "metadata": {},
   "outputs": [
    {
     "data": {
      "text/plain": [
       "1000"
      ]
     },
     "execution_count": 5,
     "metadata": {},
     "output_type": "execute_result"
    }
   ],
   "source": [
    "type(bok_trojkata)\n",
    "bok_trojkata**3"
   ]
  },
  {
   "cell_type": "code",
   "execution_count": 63,
   "metadata": {},
   "outputs": [
    {
     "name": "stdin",
     "output_type": "stream",
     "text": [
      "Podaj dlugosci bokow trojkata:    3,   4,  5\n"
     ]
    }
   ],
   "source": [
    "a,b,c=input('Podaj dlugosci bokow trojkata:').strip().split(',')"
   ]
  },
  {
   "cell_type": "code",
   "execution_count": 66,
   "metadata": {},
   "outputs": [
    {
     "data": {
      "text/plain": [
       "'3'"
      ]
     },
     "execution_count": 66,
     "metadata": {},
     "output_type": "execute_result"
    }
   ],
   "source": [
    "a"
   ]
  },
  {
   "cell_type": "markdown",
   "metadata": {},
   "source": [
    "<h3 style=\"color: magenta;\"> Zadanie </h3>\n",
    "Zmodyfikuj zadanie domowe (z początku notatnika) tak by działało dla każdej daty wprowadzanej przez użytkownika z klawiatury w formacie D.M.R, gdzie D oznacza dzień, M miesiąc, a R rok"
   ]
  },
  {
   "cell_type": "code",
   "execution_count": 86,
   "metadata": {},
   "outputs": [
    {
     "name": "stdin",
     "output_type": "stream",
     "text": [
      "Wprowadz date:  16.08.1989\n"
     ]
    },
    {
     "name": "stdout",
     "output_type": "stream",
     "text": [
      "11392\n"
     ]
    }
   ],
   "source": [
    "dzien,miesiac,rok=input('Wprowadz date: ').strip().split('.')\n",
    "dzien,miesiac,rok=int(dzien),int(miesiac),int(rok)\n",
    "dziend,miesiacd,rokd=23,10,2020\n",
    "#Ile dni minęło od 01.01.0 do pierwszej daty\n",
    "czy_przestepny=(rok%4==0 and rok%100!=0)or(rok%400==0)\n",
    "ile_przestepnych=rok//4-rok//100+rok//400-czy_przestepny\n",
    "ile_dni=365*rok+ile_przestepnych+30*miesiac+math.ceil(miesiac/2)-2+czy_przestepny+(miesiac>8)+dzien\n",
    "#Ile dni minęło od 01.01.0 do dzisiejszego dnia\n",
    "czy_przestepnyd=(rokd%4==0 and rokd%100!=0)or(rokd%400==0)\n",
    "ile_przestepnychd=rokd//4-rokd//100+rokd//400-czy_przestepnyd\n",
    "ile_dnid=365*rokd+ile_przestepnychd+30*miesiacd+math.ceil(miesiacd/2)-2+czy_przestepnyd+(miesiacd>8)+dziend\n",
    "wynik=ile_dnid-ile_dni\n",
    "print(wynik)"
   ]
  },
  {
   "cell_type": "code",
   "execution_count": null,
   "metadata": {},
   "outputs": [],
   "source": []
  },
  {
   "cell_type": "markdown",
   "metadata": {},
   "source": [
    "<h3> Napisy interpolowane </h3>\n",
    "Chcemy umieścić wewnątrz napisu wartość określonej zmiennej. Na przykład chcemy zapisać:\n",
    "\n",
    "Długość boku a wynosi {i tu powinna się pojawić wartość zmiennej a}.\n",
    "\n",
    "Można to zrobić na dwa sposoby."
   ]
  },
  {
   "cell_type": "code",
   "execution_count": 1,
   "metadata": {},
   "outputs": [
    {
     "name": "stdout",
     "output_type": "stream",
     "text": [
      "Dlugosc boku a wynosi 5\n",
      "Dlugosc boku a wynosi 5\n"
     ]
    }
   ],
   "source": [
    "a=5\n",
    "print(f'Dlugosc boku a wynosi {a}')\n",
    "print('Dlugosc boku a wynosi {}'.format(a))"
   ]
  },
  {
   "cell_type": "markdown",
   "metadata": {},
   "source": [
    "Przy użyciu metody .format() możemy w tekście umieścić wartości większej liczby zmiennych (np. przechowywanych w liście, choć tej nie można zadać bezpośrednio -- bez rozpakowania -- jako arguementu metody .format()) w wybranej przez nas kolejności -- w nawiasie {} należy wpisać indeks odpowiedniej zmiennej od 0 do n-1, gdzie n jest liczbą zmiennych podanych jako argumenty metody -- w przypadku gdy umieścimy puste nawiasy zmienne będą wczytywane po kolei. Co więcej, możemy manipulować pozycjonowaniem (wyśrodkowywać, wyrównywać do prawej, do lewej) oraz decydować w jakim systemie mają być podawane wartości liczbowe (binarnym, stałoprzecinkowym, szesnastkowym, itp.)"
   ]
  },
  {
   "cell_type": "code",
   "execution_count": 4,
   "metadata": {},
   "outputs": [
    {
     "name": "stdout",
     "output_type": "stream",
     "text": [
      "Dlugosc boku a wynosi 3\n",
      "Dlugosc boku c wynosi 5\n",
      "Dlugosc boku b wynosi 4\n"
     ]
    }
   ],
   "source": [
    "a,b,c=3,4,5\n",
    "print('Dlugosc boku a wynosi {0}\\nDlugosc boku c wynosi {2}\\nDlugosc boku b wynosi {1}'.format(a,b,c))"
   ]
  },
  {
   "cell_type": "markdown",
   "metadata": {},
   "source": [
    "Można też wprowadzić tymczasowe zmienne i zadać ich wartości."
   ]
  },
  {
   "cell_type": "code",
   "execution_count": 9,
   "metadata": {},
   "outputs": [
    {
     "name": "stdout",
     "output_type": "stream",
     "text": [
      "Dlugosc boku a wynosi 3\n",
      "Dlugosc boku b wynosi 4\n",
      "Dlugosc boku c wynosi 5.0\n"
     ]
    }
   ],
   "source": [
    "print('Dlugosc boku a wynosi {da}\\nDlugosc boku b wynosi {db}\\nDlugosc boku c wynosi {dc}'.format(da=a,db=b,dc=math.sqrt(a**2+b**2)))"
   ]
  },
  {
   "cell_type": "code",
   "execution_count": 12,
   "metadata": {},
   "outputs": [
    {
     "name": "stdout",
     "output_type": "stream",
     "text": [
      "Dlugosc boku a wynosi 3\n",
      "Dlugosc boku b wynosi 4\n",
      "Dlugosc boku c wynosi 5\n"
     ]
    }
   ],
   "source": [
    "#By zamienić 5.0 na 5 (liczbę zmiennoprzecinkową na stałoprzecinkową z liczbą cyfr po przecinku równą 0) trzeba zmienić specyfikację formatu\n",
    "print('Dlugosc boku a wynosi {da}\\nDlugosc boku b wynosi {db}\\nDlugosc boku c wynosi {dc:.0f}'.format(da=a,db=b,dc=math.sqrt(a**2+b**2)))"
   ]
  },
  {
   "cell_type": "raw",
   "metadata": {},
   "source": [
    "Specyfikacja formatu:\n",
    ".2f - stałoprzecinkowa o 2 miejscach po przecinku (liczba miejsc po przecinku zmienna - jeżeli nie podamy -- napiszemy .f -- to domyślnie wyświetlonych zostanie 6 cyfr po przecinku, gdy wpiszemy .0f otrzymamy zapis liczby całkowitej)\n",
    "b - zapis binarny\n",
    "x - zapis szesnastkowy\n",
    "o - zapis ósemkowy\n",
    "^15 - wyśrodkowanie (w polu o 15 znakach) - przed ^ można umieścić symbol (spacje będą zastąpione tymi symbolami)\n",
    ">15 - wyrównanie do prawej (w polu o 15 znakach)\n",
    "<15 - wyrównanie do lewej (w polu o 15 znakach)"
   ]
  },
  {
   "cell_type": "code",
   "execution_count": 32,
   "metadata": {},
   "outputs": [
    {
     "name": "stdout",
     "output_type": "stream",
     "text": [
      "Dlugosc boku a wynosi\n",
      " ⛱⛱⛱⛱⛱⛱⛱⛱⛱⛱⛱5.578200⛱⛱⛱⛱⛱⛱⛱⛱⛱⛱⛱\n",
      "Dlugosc boku b wynosi\n",
      " 11\n",
      "Dlugosc boku c wynosi\n",
      " f\n"
     ]
    }
   ],
   "source": [
    "a,b,c=3,15,5.5782\n",
    "print('Dlugosc boku a wynosi\\n {2:\\u26f1^30f}\\nDlugosc boku b wynosi\\n {0:b}\\nDlugosc boku c wynosi\\n {1:x}'.format(a,b,c))"
   ]
  },
  {
   "cell_type": "code",
   "execution_count": 115,
   "metadata": {},
   "outputs": [
    {
     "name": "stdout",
     "output_type": "stream",
     "text": [
      "Dzisiaj jest piątek. Jutro będzie sobota. Wczoraj był czwartek\n",
      "Ser kosztuje 4.69 zł\n",
      "Mleko kosztuje 3.50 zł\n",
      "Chusteczka kosztuje 0.02 zł\n",
      "\n"
     ]
    }
   ],
   "source": [
    "napis='Dzisiaj jest {1}. Jutro będzie {2}. Wczoraj był {0}'\n",
    "print(napis.format('czwartek','piątek','sobota'))\n",
    "napis='Produkt: Cena:'\n",
    "lista=['Ser', 4.69, 'Mleko', 3.5, 'Chusteczka', 0.02]\n",
    "wykaz='{} kosztuje {:.2f} zł\\n'\n",
    "print((wykaz*3).format(*lista))"
   ]
  },
  {
   "cell_type": "markdown",
   "metadata": {},
   "source": [
    "<h3 style=\"color: magenta;\"> Zadanie </h3>\n",
    "Napisz skrypt, który wyświetli następującą tabelę:"
   ]
  },
  {
   "cell_type": "raw",
   "metadata": {},
   "source": [
    "|    Decimal    |    Binary     |   Octagonal   |   Hexagonal   |\n",
    "*****************************************************************\n",
    "|              0|              0|              0|              0|\n",
    "|             10|           1010|             12|              a|\n",
    "|             20|          10100|             24|             14|\n",
    "|             30|          11110|             36|             1e|\n",
    "|             40|         101000|             50|             28|\n",
    "|             50|         110010|             62|             32|\n",
    "|             60|         111100|             74|             3c|\n",
    "|             70|        1000110|            106|             46|\n",
    "|             80|        1010000|            120|             50|\n",
    "|             90|        1011010|            132|             5a|"
   ]
  },
  {
   "cell_type": "code",
   "execution_count": 119,
   "metadata": {},
   "outputs": [
    {
     "name": "stdout",
     "output_type": "stream",
     "text": [
      "|    Decimal    |    Binary     |   Octagonal   |   Hexagonal   |\n",
      "*****************************************************************\n",
      "|              0|              0|              0|              0|\n",
      "|             10|           1010|             12|              a|\n",
      "|             20|          10100|             24|             14|\n",
      "|             30|          11110|             36|             1e|\n",
      "|             40|         101000|             50|             28|\n",
      "|             50|         110010|             62|             32|\n",
      "|             60|         111100|             74|             3c|\n",
      "|             70|        1000110|            106|             46|\n",
      "|             80|        1010000|            120|             50|\n",
      "|             90|        1011010|            132|             5a|\n",
      "\n"
     ]
    }
   ],
   "source": [
    "lista=[10*(i//4) for i in range(40)]\n",
    "pierwszy=('|{:^15}'*4+'|\\n'+'*'*65+'\\n').format('Decimal','Binary','Octagonal','Hexagonal')\n",
    "tabelka=(('|{:>15}'+'|{:>15b}'+'|{:>15o}'+'|{:>15x}'+'|\\n')*10).format(*lista)\n",
    "print(pierwszy+tabelka)"
   ]
  },
  {
   "cell_type": "markdown",
   "metadata": {},
   "source": [
    "<h3> Metody dla klasy string </h3>"
   ]
  },
  {
   "cell_type": "code",
   "execution_count": null,
   "metadata": {},
   "outputs": [],
   "source": []
  },
  {
   "cell_type": "markdown",
   "metadata": {},
   "source": [
    "<h3> Indeksowanie </h3>"
   ]
  },
  {
   "cell_type": "code",
   "execution_count": 124,
   "metadata": {},
   "outputs": [
    {
     "data": {
      "text/plain": [
       "'a'"
      ]
     },
     "execution_count": 124,
     "metadata": {},
     "output_type": "execute_result"
    }
   ],
   "source": [
    "tekst='Ala ma kota'\n",
    "tekst[-1]"
   ]
  },
  {
   "cell_type": "code",
   "execution_count": 125,
   "metadata": {},
   "outputs": [
    {
     "data": {
      "text/plain": [
       "'Ala ma kot'"
      ]
     },
     "execution_count": 125,
     "metadata": {},
     "output_type": "execute_result"
    }
   ],
   "source": [
    "tekst[:10]"
   ]
  },
  {
   "cell_type": "code",
   "execution_count": 126,
   "metadata": {},
   "outputs": [
    {
     "data": {
      "text/plain": [
       "'a ma kota'"
      ]
     },
     "execution_count": 126,
     "metadata": {},
     "output_type": "execute_result"
    }
   ],
   "source": [
    "tekst[2:]"
   ]
  },
  {
   "cell_type": "code",
   "execution_count": 127,
   "metadata": {},
   "outputs": [
    {
     "data": {
      "text/plain": [
       "'a ma kot'"
      ]
     },
     "execution_count": 127,
     "metadata": {},
     "output_type": "execute_result"
    }
   ],
   "source": [
    "tekst[2:10]"
   ]
  },
  {
   "cell_type": "code",
   "execution_count": 128,
   "metadata": {},
   "outputs": [
    {
     "data": {
      "text/plain": [
       "'am o'"
      ]
     },
     "execution_count": 128,
     "metadata": {},
     "output_type": "execute_result"
    }
   ],
   "source": [
    "tekst[2:10:2]"
   ]
  },
  {
   "cell_type": "code",
   "execution_count": 129,
   "metadata": {},
   "outputs": [
    {
     "data": {
      "text/plain": [
       "'atok am alA'"
      ]
     },
     "execution_count": 129,
     "metadata": {},
     "output_type": "execute_result"
    }
   ],
   "source": [
    "tekst[::-1]"
   ]
  },
  {
   "cell_type": "code",
   "execution_count": 132,
   "metadata": {},
   "outputs": [
    {
     "data": {
      "text/plain": [
       "'Aam oa'"
      ]
     },
     "execution_count": 132,
     "metadata": {},
     "output_type": "execute_result"
    }
   ],
   "source": [
    "tekst[::2]"
   ]
  },
  {
   "cell_type": "code",
   "execution_count": 135,
   "metadata": {},
   "outputs": [
    {
     "data": {
      "text/plain": [
       "'a'"
      ]
     },
     "execution_count": 135,
     "metadata": {},
     "output_type": "execute_result"
    }
   ],
   "source": [
    "tekst[tekst.index('a')]"
   ]
  },
  {
   "cell_type": "markdown",
   "metadata": {},
   "source": [
    "<h3 style=\"color: magenta;\"> Zadanie </h3>\n",
    "Napisz skrypt, który poprosi użytkownika o wprowadzenie tekstu oraz zamieni w nim litery występujące najczęściej na parasole ☔.\n",
    "\n",
    "<h4> Przykład </h4>\n",
    "\n",
    "Użytkownik wprowadza tekst:\n",
    "\n",
    "<p style='color: orange;'>Ala ma kota i rybki</p>\n",
    "\n",
    "\n",
    "W wyniku powinniśmy otrzymać tekst:\n",
    "\n",
    "<p style='color: purple;'>Al☔ m☔ kot☔ i rybki</p>"
   ]
  },
  {
   "cell_type": "code",
   "execution_count": 141,
   "metadata": {},
   "outputs": [
    {
     "data": {
      "text/plain": [
       "'Ala*ma*kota'"
      ]
     },
     "execution_count": 141,
     "metadata": {},
     "output_type": "execute_result"
    }
   ],
   "source": [
    "tekst='Ala ma kota'\n",
    "tekst.replace(tekst[max([tekst.count(i) for i in tekst.replace(' ','')])],'*')"
   ]
  },
  {
   "cell_type": "code",
   "execution_count": null,
   "metadata": {},
   "outputs": [],
   "source": []
  }
 ],
 "metadata": {
  "kernelspec": {
   "display_name": "Python 3",
   "language": "python",
   "name": "python3"
  },
  "language_info": {
   "codemirror_mode": {
    "name": "ipython",
    "version": 3
   },
   "file_extension": ".py",
   "mimetype": "text/x-python",
   "name": "python",
   "nbconvert_exporter": "python",
   "pygments_lexer": "ipython3",
   "version": "3.7.1"
  }
 },
 "nbformat": 4,
 "nbformat_minor": 4
}
