{
 "cells": [
  {
   "cell_type": "code",
   "execution_count": 1,
   "metadata": {},
   "outputs": [],
   "source": [
    "wiadomosc = \"\"\"\n",
    "FTTQSFBERJLEFDMGUCABSAFEDQVXFB\n",
    "TEYQNBXGBHBFWDTGVMPAVTNEZBVHMLIAB\n",
    "RUOGYWXERXRQRDRCUVRLFAHEQEZB\n",
    "RXVBDYHLXMOSADGLQLIPBDHHDHATEB\n",
    "UQEQGSLTBQQHEDCHQOXVSCHHNVZLFRQVTFR\n",
    "TSMRDFRWKDLMFBWKWAHHDIZVBPFHJRWMROTHB\n",
    "EATVTWKYOXVSCHKABSSXRHYTTHWLEAT\n",
    "RXVBRNFCEYNSGTDHXVEZXYHLDRN\n",
    "\"\"\""
   ]
  },
  {
   "cell_type": "code",
   "execution_count": 2,
   "metadata": {},
   "outputs": [],
   "source": [
    "def porównaj(freq1, freq2):\n",
    "    delta = 0\n",
    "    for litera, częstość in freq1.items():\n",
    "        if litera not in freq2:\n",
    "            delta += częstość\n",
    "        else:\n",
    "            delta += abs(częstość - freq2[litera])\n",
    "    for litera, częstość in freq2.items():\n",
    "        if litera not in freq1:\n",
    "            delta += częstość\n",
    "    return delta\n",
    "\n",
    "freq = {\n",
    "  'A': 0.099,  'B': 0.0147, 'C': 0.0436, 'D': 0.0325, 'E': 0.0877, 'F': 0.003,  'G': 0.0142,\n",
    "  'H': 0.0108, 'I': 0.0821, 'J': 0.0228, 'K': 0.0351, 'L': 0.0392, 'M': 0.028,  'N': 0.0572,\n",
    "  'O': 0.086,  'P': 0.0313, 'Q': 0.0014, 'R': 0.0469, 'S': 0.0498, 'T': 0.0398, 'U': 0.025,\n",
    "  'V': 0.004,  'W': 0.0465, 'X': 0.0002, 'Y': 0.0376, 'Z': 0.0653\n",
    "}"
   ]
  },
  {
   "cell_type": "code",
   "execution_count": 3,
   "metadata": {},
   "outputs": [
    {
     "data": {
      "text/plain": [
       "0.0"
      ]
     },
     "execution_count": 3,
     "metadata": {},
     "output_type": "execute_result"
    }
   ],
   "source": [
    "porównaj(freq, freq)"
   ]
  },
  {
   "cell_type": "code",
   "execution_count": null,
   "metadata": {},
   "outputs": [],
   "source": []
  },
  {
   "cell_type": "markdown",
   "metadata": {},
   "source": [
    "# Doctesty"
   ]
  },
  {
   "cell_type": "code",
   "execution_count": 6,
   "metadata": {},
   "outputs": [],
   "source": [
    "def suma(x, y):\n",
    "    \"\"\"Suma liczb x i y\n",
    "    \n",
    "    >>> suma(1, 2)\n",
    "    3\n",
    "    \n",
    "    \"\"\"\n",
    "    return x + y"
   ]
  },
  {
   "cell_type": "code",
   "execution_count": 7,
   "metadata": {},
   "outputs": [
    {
     "name": "stdout",
     "output_type": "stream",
     "text": [
      "Exception reporting mode: Plain\n",
      "Doctest mode is: ON\n",
      "Exception reporting mode: Context\n",
      "Doctest mode is: OFF\n"
     ]
    }
   ],
   "source": [
    "\n",
    "%doctest_mode\n",
    "import doctest\n",
    "doctest.testmod()\n",
    "%doctest_mode"
   ]
  },
  {
   "cell_type": "code",
   "execution_count": null,
   "metadata": {},
   "outputs": [],
   "source": []
  }
 ],
 "metadata": {
  "kernelspec": {
   "display_name": "Python 3",
   "language": "python",
   "name": "python3"
  },
  "language_info": {
   "codemirror_mode": {
    "name": "ipython",
    "version": 3
   },
   "file_extension": ".py",
   "mimetype": "text/x-python",
   "name": "python",
   "nbconvert_exporter": "python",
   "pygments_lexer": "ipython3",
   "version": "3.7.1"
  }
 },
 "nbformat": 4,
 "nbformat_minor": 4
}
