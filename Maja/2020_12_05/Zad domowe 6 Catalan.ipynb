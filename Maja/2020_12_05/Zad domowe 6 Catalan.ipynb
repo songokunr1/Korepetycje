{
 "cells": [
  {
   "cell_type": "code",
   "execution_count": 8,
   "metadata": {},
   "outputs": [],
   "source": [
    "def zwroc_liczbe_catalana(n=1):\n",
    "    if n <= 1 : \n",
    "        return 1 \n",
    "    res = 0 \n",
    "    for i in range(n): \n",
    "        res += zwroc_liczbe_catalana(i) * zwroc_liczbe_catalana(n-i-1) \n",
    "    return res \n",
    "\n",
    "\n",
    "def liczby_catalana(n=1):\n",
    "    for i in range(n+1):\n",
    "        print (zwroc_liczbe_catalana(i))\n"
   ]
  },
  {
   "cell_type": "code",
   "execution_count": 10,
   "metadata": {},
   "outputs": [
    {
     "data": {
      "text/plain": [
       "1"
      ]
     },
     "execution_count": 10,
     "metadata": {},
     "output_type": "execute_result"
    }
   ],
   "source": [
    "zwroc_liczbe_catalana(1)"
   ]
  },
  {
   "cell_type": "code",
   "execution_count": 6,
   "metadata": {},
   "outputs": [],
   "source": [
    "def catalan(n):\n",
    "    if (n==0 or n==1):\n",
    "        return 1\n",
    "    catalan = [0 for i in range(n+1)]\n",
    "    catalan[0] = 1\n",
    "    catalan[1] = 1\n",
    "    for i in range(2, n+1):\n",
    "        catalan[i] = 0\n",
    "        for j in range(i):\n",
    "            catalan[i] = catalan[i] + catalan[j]*catalan[i-j-1]\n",
    "    return catalan\n",
    "                                                         "
   ]
  },
  {
   "cell_type": "code",
   "execution_count": 7,
   "metadata": {},
   "outputs": [
    {
     "data": {
      "text/plain": [
       "[1, 1, 2, 5, 14, 42, 132]"
      ]
     },
     "execution_count": 7,
     "metadata": {},
     "output_type": "execute_result"
    }
   ],
   "source": [
    "catalan(6)"
   ]
  },
  {
   "cell_type": "code",
   "execution_count": null,
   "metadata": {},
   "outputs": [],
   "source": [
    "def catalan(n):\n",
    "    if (n==0 or n==1):\n",
    "        return 1\n",
    "    catalan = [0 for i in range(n+1)]\n",
    "    catalan[0] = 1\n",
    "    catalan[1] = 1\n",
    "    for i in range(2, n+1):\n",
    "        catalan[i] = 0\n",
    "        for j in range(i):\n",
    "            catalan[i] = catalan[i] + catalan[j]*catalan[i-j-1]\n",
    "    return catalan"
   ]
  },
  {
   "cell_type": "code",
   "execution_count": null,
   "metadata": {},
   "outputs": [],
   "source": []
  },
  {
   "cell_type": "code",
   "execution_count": 78,
   "metadata": {},
   "outputs": [
    {
     "data": {
      "image/png": "[encoded data removed]",
      "text/plain": [
       "<Figure size 432x288 with 1 Axes>"
      ]
     },
     "metadata": {
      "needs_background": "light"
     },
     "output_type": "display_data"
    }
   ],
   "source": [
    "import matplotlib.pyplot as plt\n",
    "import numpy as np\n",
    "x=np.linspace(0,2*np.pi,1000)\n",
    "y=np.sin(x)\n",
    "plt.plot(x,y, label='$f(x)=\\sin{x}$',lw=5) #Dodanie wykresu y(x), label - etykieta do legendy\n",
    "plt.plot(x,np.cos(x), 'r', label='$f(x)=\\cos{x}$')\n",
    "plt.legend(loc='best') #Dodanie legendy, loc może mieć wartości '{upper, lower,} {left,right,center}' albo 'best' - to ostatnie samo dobiera lokalizację legendy\n",
    "plt.title('Iloraz Cn/f(n)') #Tytuł wykresu\n",
    "plt.xticks(np.array([0,np.pi,2*np.pi]),['0','$\\pi$','$2\\pi$']) #Etykiety osi x - pierwszy arguemnt: wektor punktów, drugi argument: lista etykiet\n",
    "plt.xlabel('wartości ni') #Nazwa osi\n",
    "plt.ylabel('y')\n",
    "plt.xlim(1,151) #Zakres osi\n",
    "plt.ylim(0.4,1.1)\n",
    "plt.show() #Zamknięcie wykresu i wyświetlenie"
   ]
  },
  {
   "cell_type": "code",
   "execution_count": 82,
   "metadata": {},
   "outputs": [
    {
     "data": {
      "image/png": "[encoded data removed]",
      "text/plain": [
       "<Figure size 432x288 with 1 Axes>"
      ]
     },
     "metadata": {
      "needs_background": "light"
     },
     "output_type": "display_data"
    }
   ],
   "source": [
    "import matplotlib.pyplot as plt\n",
    "import numpy as np\n",
    "x=np.linspace(0,2*np.pi,1000)\n",
    "y=np.sin(x)\n",
    "plt.plot(x,y, label='Stirling',) #Dodanie wykresu y(x), label - etykieta do legendy\n",
    "plt.plot(x,np.cos(x), 'r', label='Ramanujan')\n",
    "plt.plot(x, label='Burnside')\n",
    "plt.legend(loc='best') #Dodanie legendy, loc może mieć wartości '{upper, lower,} {left,right,center}' albo 'best' - to ostatnie samo dobiera lokalizację legendy\n",
    "plt.title('Porównanie wzorów przybliżających wartość n!') #Tytuł wykresu\n",
    "plt.xticks(np.array([0,np.pi,2*np.pi]),['4','69','139']) #Etykiety osi x - pierwszy arguemnt: wektor punktów, drugi argument: lista etykiet\n",
    "plt.xlabel('n') #Nazwa osi\n",
    "plt.xlim(-5,155) #Zakres osi\n",
    "plt.ylim(0.975,1.055)\n",
    "plt.show() #Zamknięcie wykresu i wyświetlenie"
   ]
  },
  {
   "cell_type": "code",
   "execution_count": null,
   "metadata": {},
   "outputs": [],
   "source": []
  },
  {
   "cell_type": "code",
   "execution_count": null,
   "metadata": {},
   "outputs": [],
   "source": []
  }
 ],
 "metadata": {
  "kernelspec": {
   "display_name": "Python 3",
   "language": "python",
   "name": "python3"
  },
  "language_info": {
   "codemirror_mode": {
    "name": "ipython",
    "version": 3
   },
   "file_extension": ".py",
   "mimetype": "text/x-python",
   "name": "python",
   "nbconvert_exporter": "python",
   "pygments_lexer": "ipython3",
   "version": "3.7.1"
  }
 },
 "nbformat": 4,
 "nbformat_minor": 4
}
