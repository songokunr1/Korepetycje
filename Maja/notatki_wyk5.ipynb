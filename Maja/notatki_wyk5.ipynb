{
 "cells": [
  {
   "cell_type": "code",
   "execution_count": 1,
   "metadata": {},
   "outputs": [
    {
     "ename": "ImportError",
     "evalue": "cannot import name gcd",
     "output_type": "error",
     "traceback": [
      "\u001b[1;31m---------------------------------------------------------------------------\u001b[0m",
      "\u001b[1;31mImportError\u001b[0m                               Traceback (most recent call last)",
      "\u001b[1;32m<ipython-input-1-5064cd47050e>\u001b[0m in \u001b[0;36m<module>\u001b[1;34m()\u001b[0m\n\u001b[1;32m----> 1\u001b[1;33m \u001b[1;32mfrom\u001b[0m \u001b[0mmath\u001b[0m \u001b[1;32mimport\u001b[0m \u001b[0mgcd\u001b[0m\u001b[1;33m\u001b[0m\u001b[0m\n\u001b[0m\u001b[0;32m      2\u001b[0m \u001b[0mN\u001b[0m \u001b[1;33m=\u001b[0m \u001b[1;36m50\u001b[0m\u001b[1;33m\u001b[0m\u001b[0m\n",
      "\u001b[1;31mImportError\u001b[0m: cannot import name gcd"
     ]
    }
   ],
   "source": [
    "from math import gcd\n",
    "N = 50"
   ]
  },
  {
   "cell_type": "code",
   "execution_count": 6,
   "metadata": {},
   "outputs": [
    {
     "data": {
      "text/plain": [
       "{(3, 4, 5),\n",
       " (5, 12, 13),\n",
       " (7, 24, 25),\n",
       " (8, 15, 17),\n",
       " (9, 40, 41),\n",
       " (12, 35, 37),\n",
       " (20, 21, 29)}"
      ]
     },
     "execution_count": 6,
     "metadata": {},
     "output_type": "execute_result"
    }
   ],
   "source": [
    "\n",
    "{(a//gcd(a, b), b//gcd(a, b), c//gcd(a, b))\n",
    "    for a in range(1, N)\n",
    "    for b in range(1, N)\n",
    "    for c in range(1, N)\n",
    "    if a**2 + b**2 == c**2\n",
    "    if a < b < c}"
   ]
  },
  {
   "cell_type": "code",
   "execution_count": 19,
   "metadata": {},
   "outputs": [
    {
     "name": "stdout",
     "output_type": "stream",
     "text": [
      "16.9 ms ± 958 µs per loop (mean ± std. dev. of 7 runs, 100 loops each)\n"
     ]
    }
   ],
   "source": [
    "%%timeit\n",
    "{(a//gcd(a, b), b//gcd(a, b), c//gcd(a, b)) for a in range(1, N)\n",
    "                                            for b in range(a, N)\n",
    "                                            for c in range(b, N)\n",
    "                                            if a**2 + b**2 == c**2}"
   ]
  },
  {
   "cell_type": "markdown",
   "metadata": {},
   "source": [
    "Znajdź pierwotne trójkąty pitagorejskie o bokach mniejszych od $N$."
   ]
  },
  {
   "cell_type": "code",
   "execution_count": 33,
   "metadata": {},
   "outputs": [
    {
     "data": {
      "text/plain": [
       "{(3, 4, 5),\n",
       " (5, 12, 13),\n",
       " (7, 24, 25),\n",
       " (8, 15, 17),\n",
       " (9, 40, 41),\n",
       " (11, 60, 61),\n",
       " (12, 35, 37),\n",
       " (13, 84, 85),\n",
       " (15, 112, 113),\n",
       " (16, 63, 65),\n",
       " (17, 144, 145),\n",
       " (19, 180, 181),\n",
       " (20, 21, 29),\n",
       " (20, 99, 101),\n",
       " (21, 220, 221),\n",
       " (23, 264, 265),\n",
       " (24, 143, 145),\n",
       " (25, 312, 313),\n",
       " (27, 364, 365),\n",
       " (28, 45, 53),\n",
       " (28, 195, 197),\n",
       " (29, 420, 421),\n",
       " (31, 480, 481),\n",
       " (32, 255, 257),\n",
       " (33, 56, 65),\n",
       " (33, 544, 545),\n",
       " (35, 612, 613),\n",
       " (36, 77, 85),\n",
       " (36, 323, 325),\n",
       " (37, 684, 685),\n",
       " (39, 80, 89),\n",
       " (39, 760, 761),\n",
       " (40, 399, 401),\n",
       " (41, 840, 841),\n",
       " (43, 924, 925),\n",
       " (44, 117, 125),\n",
       " (44, 483, 485),\n",
       " (48, 55, 73),\n",
       " (48, 575, 577),\n",
       " (51, 140, 149),\n",
       " (52, 165, 173),\n",
       " (52, 675, 677),\n",
       " (56, 783, 785),\n",
       " (57, 176, 185),\n",
       " (60, 91, 109),\n",
       " (60, 221, 229),\n",
       " (60, 899, 901),\n",
       " (65, 72, 97),\n",
       " (68, 285, 293),\n",
       " (69, 260, 269),\n",
       " (75, 308, 317),\n",
       " (76, 357, 365),\n",
       " (84, 187, 205),\n",
       " (84, 437, 445),\n",
       " (85, 132, 157),\n",
       " (87, 416, 425),\n",
       " (88, 105, 137),\n",
       " (92, 525, 533),\n",
       " (93, 476, 485),\n",
       " (95, 168, 193),\n",
       " (96, 247, 265),\n",
       " (100, 621, 629),\n",
       " (104, 153, 185),\n",
       " (105, 208, 233),\n",
       " (105, 608, 617),\n",
       " (108, 725, 733),\n",
       " (111, 680, 689),\n",
       " (115, 252, 277),\n",
       " (116, 837, 845),\n",
       " (119, 120, 169),\n",
       " (120, 209, 241),\n",
       " (120, 391, 409),\n",
       " (123, 836, 845),\n",
       " (124, 957, 965),\n",
       " (129, 920, 929),\n",
       " (132, 475, 493),\n",
       " (133, 156, 205),\n",
       " (135, 352, 377),\n",
       " (136, 273, 305),\n",
       " (140, 171, 221),\n",
       " (145, 408, 433),\n",
       " (152, 345, 377),\n",
       " (155, 468, 493),\n",
       " (156, 667, 685),\n",
       " (160, 231, 281),\n",
       " (161, 240, 289),\n",
       " (165, 532, 557),\n",
       " (168, 425, 457),\n",
       " (168, 775, 793),\n",
       " (175, 288, 337),\n",
       " (180, 299, 349),\n",
       " (184, 513, 545),\n",
       " (185, 672, 697),\n",
       " (189, 340, 389),\n",
       " (195, 748, 773),\n",
       " (200, 609, 641),\n",
       " (203, 396, 445),\n",
       " (204, 253, 325),\n",
       " (205, 828, 853),\n",
       " (207, 224, 305),\n",
       " (215, 912, 937),\n",
       " (216, 713, 745),\n",
       " (217, 456, 505),\n",
       " (220, 459, 509),\n",
       " (225, 272, 353),\n",
       " (228, 325, 397),\n",
       " (231, 520, 569),\n",
       " (232, 825, 857),\n",
       " (240, 551, 601),\n",
       " (248, 945, 977),\n",
       " (252, 275, 373),\n",
       " (259, 660, 709),\n",
       " (260, 651, 701),\n",
       " (261, 380, 461),\n",
       " (273, 736, 785),\n",
       " (276, 493, 565),\n",
       " (279, 440, 521),\n",
       " (280, 351, 449),\n",
       " (280, 759, 809),\n",
       " (287, 816, 865),\n",
       " (297, 304, 425),\n",
       " (300, 589, 661),\n",
       " (301, 900, 949),\n",
       " (308, 435, 533),\n",
       " (315, 572, 653),\n",
       " (319, 360, 481),\n",
       " (333, 644, 725),\n",
       " (336, 377, 505),\n",
       " (336, 527, 625),\n",
       " (341, 420, 541),\n",
       " (348, 805, 877),\n",
       " (364, 627, 725),\n",
       " (368, 465, 593),\n",
       " (369, 800, 881),\n",
       " (372, 925, 997),\n",
       " (385, 552, 673),\n",
       " (387, 884, 965),\n",
       " (396, 403, 565),\n",
       " (400, 561, 689),\n",
       " (407, 624, 745),\n",
       " (420, 851, 949),\n",
       " (429, 460, 629),\n",
       " (429, 700, 821),\n",
       " (432, 665, 793),\n",
       " (451, 780, 901),\n",
       " (455, 528, 697),\n",
       " (464, 777, 905),\n",
       " (468, 595, 757),\n",
       " (473, 864, 985),\n",
       " (481, 600, 769),\n",
       " (504, 703, 865),\n",
       " (533, 756, 925),\n",
       " (540, 629, 829),\n",
       " (555, 572, 797),\n",
       " (580, 741, 941),\n",
       " (615, 728, 953),\n",
       " (616, 663, 905),\n",
       " (696, 697, 985)}"
      ]
     },
     "execution_count": 33,
     "metadata": {},
     "output_type": "execute_result"
    }
   ],
   "source": [
    "{(a//gcd(a, b), b//gcd(a, b), c//gcd(a, b)) for a in range(1, N)\n",
    "                                            for b in range(a+1, N)\n",
    "                                            for c in range(b+1, N)\n",
    "                                            if a*a + b*b == c*c}"
   ]
  },
  {
   "cell_type": "code",
   "execution_count": null,
   "metadata": {},
   "outputs": [],
   "source": [
    "# a**b == exp(log(a**b)) == exp(b*log(a))"
   ]
  },
  {
   "cell_type": "code",
   "execution_count": 27,
   "metadata": {},
   "outputs": [
    {
     "data": {
      "text/plain": [
       "1.2305555555555556"
      ]
     },
     "execution_count": 27,
     "metadata": {},
     "output_type": "execute_result"
    }
   ],
   "source": [
    "4.43/1000*50000/60*20/60"
   ]
  },
  {
   "cell_type": "code",
   "execution_count": 24,
   "metadata": {},
   "outputs": [
    {
     "data": {
      "text/plain": [
       "26.111111111111107"
      ]
     },
     "execution_count": 24,
     "metadata": {},
     "output_type": "execute_result"
    }
   ],
   "source": [
    "94/1000*50000/60*20/60"
   ]
  },
  {
   "cell_type": "code",
   "execution_count": 30,
   "metadata": {},
   "outputs": [
    {
     "data": {
      "text/plain": [
       "{(3, 4, 5),\n",
       " (5, 12, 13),\n",
       " (7, 24, 25),\n",
       " (8, 15, 17),\n",
       " (9, 40, 41),\n",
       " (11, 60, 61),\n",
       " (12, 35, 37),\n",
       " (13, 84, 85),\n",
       " (15, 112, 113),\n",
       " (16, 63, 65),\n",
       " (17, 144, 145),\n",
       " (19, 180, 181),\n",
       " (20, 21, 29),\n",
       " (20, 99, 101),\n",
       " (21, 220, 221),\n",
       " (23, 264, 265),\n",
       " (24, 143, 145),\n",
       " (25, 312, 313),\n",
       " (27, 364, 365),\n",
       " (28, 45, 53),\n",
       " (28, 195, 197),\n",
       " (29, 420, 421),\n",
       " (31, 480, 481),\n",
       " (32, 255, 257),\n",
       " (33, 56, 65),\n",
       " (33, 544, 545),\n",
       " (35, 612, 613),\n",
       " (36, 77, 85),\n",
       " (36, 323, 325),\n",
       " (37, 684, 685),\n",
       " (39, 80, 89),\n",
       " (39, 760, 761),\n",
       " (40, 399, 401),\n",
       " (41, 840, 841),\n",
       " (43, 924, 925),\n",
       " (44, 117, 125),\n",
       " (44, 483, 485),\n",
       " (48, 55, 73),\n",
       " (48, 575, 577),\n",
       " (51, 140, 149),\n",
       " (52, 165, 173),\n",
       " (52, 675, 677),\n",
       " (56, 783, 785),\n",
       " (57, 176, 185),\n",
       " (60, 91, 109),\n",
       " (60, 221, 229),\n",
       " (60, 899, 901),\n",
       " (65, 72, 97),\n",
       " (68, 285, 293),\n",
       " (69, 260, 269),\n",
       " (75, 308, 317),\n",
       " (76, 357, 365),\n",
       " (84, 187, 205),\n",
       " (84, 437, 445),\n",
       " (85, 132, 157),\n",
       " (87, 416, 425),\n",
       " (88, 105, 137),\n",
       " (92, 525, 533),\n",
       " (93, 476, 485),\n",
       " (95, 168, 193),\n",
       " (96, 247, 265),\n",
       " (100, 621, 629),\n",
       " (104, 153, 185),\n",
       " (105, 208, 233),\n",
       " (105, 608, 617),\n",
       " (108, 725, 733),\n",
       " (111, 680, 689),\n",
       " (115, 252, 277),\n",
       " (116, 837, 845),\n",
       " (119, 120, 169),\n",
       " (120, 209, 241),\n",
       " (120, 391, 409),\n",
       " (123, 836, 845),\n",
       " (124, 957, 965),\n",
       " (129, 920, 929),\n",
       " (132, 475, 493),\n",
       " (133, 156, 205),\n",
       " (135, 352, 377),\n",
       " (136, 273, 305),\n",
       " (140, 171, 221),\n",
       " (145, 408, 433),\n",
       " (152, 345, 377),\n",
       " (155, 468, 493),\n",
       " (156, 667, 685),\n",
       " (160, 231, 281),\n",
       " (161, 240, 289),\n",
       " (165, 532, 557),\n",
       " (168, 425, 457),\n",
       " (168, 775, 793),\n",
       " (175, 288, 337),\n",
       " (180, 299, 349),\n",
       " (184, 513, 545),\n",
       " (185, 672, 697),\n",
       " (189, 340, 389),\n",
       " (195, 748, 773),\n",
       " (200, 609, 641),\n",
       " (203, 396, 445),\n",
       " (204, 253, 325),\n",
       " (205, 828, 853),\n",
       " (207, 224, 305),\n",
       " (215, 912, 937),\n",
       " (216, 713, 745),\n",
       " (217, 456, 505),\n",
       " (220, 459, 509),\n",
       " (225, 272, 353),\n",
       " (228, 325, 397),\n",
       " (231, 520, 569),\n",
       " (232, 825, 857),\n",
       " (240, 551, 601),\n",
       " (248, 945, 977),\n",
       " (252, 275, 373),\n",
       " (259, 660, 709),\n",
       " (260, 651, 701),\n",
       " (261, 380, 461),\n",
       " (273, 736, 785),\n",
       " (276, 493, 565),\n",
       " (279, 440, 521),\n",
       " (280, 351, 449),\n",
       " (280, 759, 809),\n",
       " (287, 816, 865),\n",
       " (297, 304, 425),\n",
       " (300, 589, 661),\n",
       " (301, 900, 949),\n",
       " (308, 435, 533),\n",
       " (315, 572, 653),\n",
       " (319, 360, 481),\n",
       " (333, 644, 725),\n",
       " (336, 377, 505),\n",
       " (336, 527, 625),\n",
       " (341, 420, 541),\n",
       " (348, 805, 877),\n",
       " (364, 627, 725),\n",
       " (368, 465, 593),\n",
       " (369, 800, 881),\n",
       " (372, 925, 997),\n",
       " (385, 552, 673),\n",
       " (387, 884, 965),\n",
       " (396, 403, 565),\n",
       " (400, 561, 689),\n",
       " (407, 624, 745),\n",
       " (420, 851, 949),\n",
       " (429, 460, 629),\n",
       " (429, 700, 821),\n",
       " (432, 665, 793),\n",
       " (451, 780, 901),\n",
       " (455, 528, 697),\n",
       " (464, 777, 905),\n",
       " (468, 595, 757),\n",
       " (473, 864, 985),\n",
       " (481, 600, 769),\n",
       " (504, 703, 865),\n",
       " (533, 756, 925),\n",
       " (540, 629, 829),\n",
       " (555, 572, 797),\n",
       " (580, 741, 941),\n",
       " (615, 728, 953),\n",
       " (616, 663, 905),\n",
       " (696, 697, 985)}"
      ]
     },
     "execution_count": 30,
     "metadata": {},
     "output_type": "execute_result"
    }
   ],
   "source": [
    "N = 1000\n",
    "{(a//gcd(a, b), b//gcd(a, b), c//gcd(a, b)) for a in range(1, N)\n",
    "                                            for b in range(a+1, N)\n",
    "                                            for c in range(b+1, N)\n",
    "                                            if a*a + b*b == c*c}"
   ]
  },
  {
   "cell_type": "code",
   "execution_count": 32,
   "metadata": {},
   "outputs": [
    {
     "data": {
      "text/plain": [
       "158"
      ]
     },
     "execution_count": 32,
     "metadata": {},
     "output_type": "execute_result"
    }
   ],
   "source": [
    "len(Out[30])"
   ]
  },
  {
   "cell_type": "markdown",
   "metadata": {},
   "source": [
    "Czy istnieje trójkąt pitagorejski o zadanym obwodzie $O = 1000$."
   ]
  },
  {
   "cell_type": "code",
   "execution_count": 46,
   "metadata": {},
   "outputs": [
    {
     "name": "stdout",
     "output_type": "stream",
     "text": [
      "41.5 s ± 739 ms per loop (mean ± std. dev. of 7 runs, 1 loop each)\n"
     ]
    }
   ],
   "source": [
    "%%timeit\n",
    "O = 1000\n",
    "len({(a, b, c) for a in range(1, O+1)\n",
    "               for b in range(a+1, O+1)\n",
    "               for c in range(b+1, O+1)\n",
    "               if a*a + b*b == c*c\n",
    "               if a+b+c == O}) > 0"
   ]
  },
  {
   "cell_type": "code",
   "execution_count": 45,
   "metadata": {},
   "outputs": [
    {
     "name": "stdout",
     "output_type": "stream",
     "text": [
      "59.2 ms ± 7.11 ms per loop (mean ± std. dev. of 7 runs, 10 loops each)\n"
     ]
    }
   ],
   "source": [
    "%%timeit\n",
    "O = 1000\n",
    "len({(a, b, O-a-b) for a in range(1, (O+1)//2)\n",
    "                   for b in range(a+1, (O+1)//2)\n",
    "                   if a*a + b*b == (O-a-b)*(O-a-b)}) > 0"
   ]
  },
  {
   "cell_type": "code",
   "execution_count": 47,
   "metadata": {},
   "outputs": [
    {
     "data": {
      "text/plain": [
       "701.0135135135134"
      ]
     },
     "execution_count": 47,
     "metadata": {},
     "output_type": "execute_result"
    }
   ],
   "source": [
    "41.5/(59.2e-3)"
   ]
  },
  {
   "cell_type": "markdown",
   "metadata": {},
   "source": [
    "*Uwaga* --- tu mogą być błędy, liczone na żywo --- sprawdź :)\n",
    "\n",
    "$$ \\sum_{a=1}^O \\sum_{b=a+1}^O \\sum_{c=b+1}^O p = p \\sum_{a=1}^O \\sum_{b=a+1}^O \\sum_{c=b+1}^O 1 = p \\sum_{a=1}^O \\sum_{b=a+1}^O (O - b)= p \\sum_{a=1}^O \\sum_{b=a+1}^O O -  p \\sum_{a=1}^O \\sum_{b=a+1}^O b= p O \\sum_{a=1}^O (O - a)  -  p \\sum_{a=1}^O \\sum_{b=a+1}^O b = p O^2 \\sum_{a=1}^O 1 - p O \\sum_{a=1}^O a -  p \\sum_{a=1}^O \\sum_{b=a+1}^O b=$$\n",
    "$$= p O^3 - p O \\sum_{a=1}^O a -  p \\sum_{a=1}^O \\sum_{b=a+1}^O b= p O^3 - p O^2 \\frac{O+1}{2} -  p \\sum_{a=1}^O (O-a)\\frac{a+1+O}{2}= p O^3 - p O^2 \\frac{O+1}{2} -  \\frac{p}{2} \\sum_{a=1}^O \\left(O+O^2 - a^2 - a\\right) = $$\n",
    "$$= p O^3 - p O^2 \\frac{O+1}{2} -  \\frac{p}{2} (O^2+O^3) + \\frac{p}{2} \\sum_{a=1}^O a^2 + \\frac{p}{2} \\sum_{a=1}^O a = p O^3 - p O^2 \\frac{O+1}{2} -  \\frac{p}{2} (O^2+O^3)  + \\frac{p}{2} O \\frac{O+1}{2} + \\frac{p}{12} O(O+1)(2O+1) = $$\n",
    "$$= \\frac{p}{6} O^3 - \\frac{p}{2} O^2 + \\frac{p}{3} O$$\n",
    "\n",
    "https://oeis.org/A000330\n"
   ]
  },
  {
   "cell_type": "code",
   "execution_count": 64,
   "metadata": {},
   "outputs": [
    {
     "data": {
      "text/plain": [
       "2.4974874674273474e-07"
      ]
     },
     "execution_count": 64,
     "metadata": {},
     "output_type": "execute_result"
    }
   ],
   "source": [
    "p = 41.5/((1000**3 - 3*1000**2 + 2*1000)//6)\n",
    "p"
   ]
  },
  {
   "cell_type": "code",
   "execution_count": 59,
   "metadata": {},
   "outputs": [
    {
     "data": {
      "text/plain": [
       "5.171921921921922"
      ]
     },
     "execution_count": 59,
     "metadata": {},
     "output_type": "execute_result"
    }
   ],
   "source": [
    "O = 500\n",
    "p*((O**3 - 3*O**2 + 2*O)//6)"
   ]
  },
  {
   "cell_type": "code",
   "execution_count": 60,
   "metadata": {},
   "outputs": [
    {
     "name": "stdout",
     "output_type": "stream",
     "text": [
      "5.1 s ± 283 ms per loop (mean ± std. dev. of 7 runs, 1 loop each)\n"
     ]
    }
   ],
   "source": [
    "%%timeit\n",
    "O = 500\n",
    "len({(a, b, c) for a in range(1, O+1)\n",
    "               for b in range(a+1, O+1)\n",
    "               for c in range(b+1, O+1)\n",
    "               if a*a + b*b == c*c\n",
    "               if a+b+c == O}) > 0"
   ]
  },
  {
   "cell_type": "code",
   "execution_count": 63,
   "metadata": {},
   "outputs": [
    {
     "data": {
      "text/plain": [
       "11.558973477485502"
      ]
     },
     "execution_count": 63,
     "metadata": {},
     "output_type": "execute_result"
    }
   ],
   "source": [
    "O = 10000\n",
    "p*((O**3 - 3*O**2 + 2*O)//6)/60/60"
   ]
  },
  {
   "cell_type": "markdown",
   "metadata": {},
   "source": [
    "Spróbuj policzyć:\n",
    "\n",
    "$$\\sum_{a=1}^{\\left\\lceil\\frac{O}{2}\\right\\rceil} \\sum_{b=a+1}^{\\left\\lceil\\frac{O}{2}\\right\\rceil}  q = q \\cdot (a_1 O^2 + a_2 O + a_3)$$\n",
    "\n",
    "oszacować $q$ na bazie testów"
   ]
  },
  {
   "cell_type": "markdown",
   "metadata": {},
   "source": [
    "Jakie są obwody trójkątów pitagorejskich? Podaj możliwe odpowiedzi dla $O < 100$"
   ]
  },
  {
   "cell_type": "code",
   "execution_count": 44,
   "metadata": {},
   "outputs": [
    {
     "data": {
      "text/plain": [
       "[12, 24, 30, 36, 40, 48, 56, 60, 70, 72, 80, 84, 90, 96]"
      ]
     },
     "execution_count": 44,
     "metadata": {},
     "output_type": "execute_result"
    }
   ],
   "source": [
    "[O for O in range(100) if len({(a, b, O-a-b) for a in range(1, (O+1)//2)\n",
    "                                            for b in range(a+1, (O+1)//2)\n",
    "                                            if a*a + b*b == (O-a-b)*(O-a-b)}) > 0]"
   ]
  },
  {
   "cell_type": "code",
   "execution_count": 41,
   "metadata": {},
   "outputs": [
    {
     "data": {
      "text/plain": [
       "12"
      ]
     },
     "execution_count": 41,
     "metadata": {},
     "output_type": "execute_result"
    }
   ],
   "source": [
    "3+4+5"
   ]
  },
  {
   "cell_type": "code",
   "execution_count": 3,
   "metadata": {},
   "outputs": [],
   "source": [
    "def style(cell):\n",
    "    \"\"\"style(n)\n",
    " \n",
    "    Funkcja sprawdzająca zgodność komórki `In[n]` notatnika\n",
    "    ze standardem stylu PEP-8.\"\"\"\n",
    "    try:\n",
    "        import pycodestyle as pep8\n",
    "    except ImportError:\n",
    "        import pep8\n",
    "    code = (In[cell]+'\\n').splitlines(True)\n",
    "    return pep8.Checker('In[{0}]'.format(cell), code).check_all()"
   ]
  },
  {
   "cell_type": "code",
   "execution_count": 66,
   "metadata": {},
   "outputs": [
    {
     "name": "stdout",
     "output_type": "stream",
     "text": [
      "In[63]:1:1: E741 ambiguous variable name 'O'\n"
     ]
    },
    {
     "data": {
      "text/plain": [
       "1"
      ]
     },
     "execution_count": 66,
     "metadata": {},
     "output_type": "execute_result"
    }
   ],
   "source": [
    "style(63)"
   ]
  },
  {
   "cell_type": "code",
   "execution_count": 5,
   "metadata": {},
   "outputs": [
    {
     "name": "stdout",
     "output_type": "stream",
     "text": [
      "In[2]:2:45: E127 continuation line over-indented for visual indent\n",
      "In[2]:3:45: E127 continuation line over-indented for visual indent\n",
      "In[2]:4:45: E127 continuation line over-indented for visual indent\n",
      "In[2]:5:45: E127 continuation line over-indented for visual indent\n"
     ]
    },
    {
     "data": {
      "text/plain": [
       "4"
      ]
     },
     "execution_count": 5,
     "metadata": {},
     "output_type": "execute_result"
    }
   ],
   "source": [
    "style(2)"
   ]
  },
  {
   "cell_type": "code",
   "execution_count": 4,
   "metadata": {},
   "outputs": [
    {
     "data": {
      "text/plain": [
       "'{(a//gcd(a, b), b//gcd(a, b), c//gcd(a, b)) for a in range(1, N)\\n                                            for b in range(1, N)\\n                                            for c in range(1, N)\\n                                            if a**2 + b**2 == c**2\\n                                            if a < b < c}'"
      ]
     },
     "execution_count": 4,
     "metadata": {},
     "output_type": "execute_result"
    }
   ],
   "source": [
    "In[2]"
   ]
  },
  {
   "cell_type": "code",
   "execution_count": null,
   "metadata": {},
   "outputs": [],
   "source": []
  }
 ],
 "metadata": {
  "kernelspec": {
   "display_name": "Python 2",
   "language": "python",
   "name": "python2"
  },
  "language_info": {
   "codemirror_mode": {
    "name": "ipython",
    "version": 2
   },
   "file_extension": ".py",
   "mimetype": "text/x-python",
   "name": "python",
   "nbconvert_exporter": "python",
   "pygments_lexer": "ipython2",
   "version": "2.7.15"
  }
 },
 "nbformat": 4,
 "nbformat_minor": 4
}
